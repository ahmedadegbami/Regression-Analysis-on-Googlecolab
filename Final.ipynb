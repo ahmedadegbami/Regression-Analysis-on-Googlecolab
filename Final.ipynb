{
  "nbformat": 4,
  "nbformat_minor": 0,
  "metadata": {
    "colab": {
      "name": "Untitled2.ipynb",
      "provenance": [],
      "include_colab_link": true
    },
    "kernelspec": {
      "name": "python3",
      "display_name": "Python 3"
    },
    "language_info": {
      "name": "python"
    }
  },
  "cells": [
    {
      "cell_type": "markdown",
      "metadata": {
        "id": "view-in-github",
        "colab_type": "text"
      },
      "source": [
        "<a href=\"https://colab.research.google.com/github/ahmedadegbami/Regression-Analysis-on-Googlecolab/blob/main/Final.ipynb\" target=\"_parent\"><img src=\"https://colab.research.google.com/assets/colab-badge.svg\" alt=\"Open In Colab\"/></a>"
      ]
    },
    {
      "cell_type": "code",
      "execution_count": null,
      "metadata": {
        "id": "R6LtkvC7b4my"
      },
      "outputs": [],
      "source": [
        "from pandas.core.arrays import string_\n",
        "import array\n",
        "import numpy as np\n",
        "import matplotlib.pyplot as plt\n",
        "import statsmodels.api as sm\n",
        "from google.colab import files\n",
        "import io\n",
        "import pandas as pd\n",
        "import seaborn as sns\n",
        "%matplotlib inline\n"
      ]
    },
    {
      "cell_type": "code",
      "source": [
        "data = pd.read_csv('/content/Main data Ahmed.csv')"
      ],
      "metadata": {
        "id": "WNkVeLD7kQ02"
      },
      "execution_count": null,
      "outputs": []
    },
    {
      "cell_type": "code",
      "source": [
        "data"
      ],
      "metadata": {
        "colab": {
          "base_uri": "https://localhost:8080/",
          "height": 1000
        },
        "id": "Ew2Kno0xcG2Q",
        "outputId": "4d299ab1-b701-4f9a-bbff-a989a1a781ac"
      },
      "execution_count": null,
      "outputs": [
        {
          "output_type": "execute_result",
          "data": {
            "text/plain": [
              "    Smoking   Time   Male  Female\n",
              "0       45.6  1974   51.4    40.7\n",
              "1      418.0  1976  462.0   380.0\n",
              "2      402.0  1978  445.0   366.0\n",
              "3      394.0  1980  424.0   368.0\n",
              "4      353.0  1982  378.0   331.0\n",
              "5      340.0  1984  363.0   321.0\n",
              "6      327.0  1986  346.0   310.0\n",
              "7      316.0  1988  329.0   304.0\n",
              "8      300.0  1990  310.0   291.0\n",
              "9      284.0  1992  294.0   276.0\n",
              "10     268.0  1994  282.0   256.0\n",
              "11     280.0  1996  286.0   275.0\n",
              "12     271.0  1998  282.0   261.0\n",
              "13     270.0  2000  285.0   255.0\n",
              "14     269.0  2001  283.0   256.0\n",
              "15     259.0  2002  268.0   250.0\n",
              "16     260.0  2003  280.0   242.0\n",
              "17     246.0  2004  264.0   230.0\n",
              "18     239.0  2005  253.0   227.0\n",
              "19     220.0  2006  232.0   209.0\n",
              "20     209.0  2007  221.0   197.0\n",
              "21     211.0  2008  216.0   206.0\n",
              "22     210.0  2009  220.0   202.0\n",
              "23     203.0  2010  209.0   198.0\n",
              "24     198.0  2011  210.0   188.0\n",
              "25     204.0  2012  222.0   188.0\n",
              "26     192.0  2013  216.0   168.0\n",
              "27     188.0  2014  204.0   172.0\n",
              "28     178.0  2015  191.0   166.0\n",
              "29     161.0  2016  177.0   145.0\n",
              "30     168.0  2017  187.0   150.0\n",
              "31     166.0  2018  170.0   162.0\n",
              "32     158.0  2019  179.0   138.0\n",
              "33     145.0  2020  153.0   137.0"
            ],
            "text/html": [
              "\n",
              "  <div id=\"df-05ef9a88-eb84-40bd-91af-d4b85b8eb6aa\">\n",
              "    <div class=\"colab-df-container\">\n",
              "      <div>\n",
              "<style scoped>\n",
              "    .dataframe tbody tr th:only-of-type {\n",
              "        vertical-align: middle;\n",
              "    }\n",
              "\n",
              "    .dataframe tbody tr th {\n",
              "        vertical-align: top;\n",
              "    }\n",
              "\n",
              "    .dataframe thead th {\n",
              "        text-align: right;\n",
              "    }\n",
              "</style>\n",
              "<table border=\"1\" class=\"dataframe\">\n",
              "  <thead>\n",
              "    <tr style=\"text-align: right;\">\n",
              "      <th></th>\n",
              "      <th>Smoking</th>\n",
              "      <th>Time</th>\n",
              "      <th>Male</th>\n",
              "      <th>Female</th>\n",
              "    </tr>\n",
              "  </thead>\n",
              "  <tbody>\n",
              "    <tr>\n",
              "      <th>0</th>\n",
              "      <td>45.6</td>\n",
              "      <td>1974</td>\n",
              "      <td>51.4</td>\n",
              "      <td>40.7</td>\n",
              "    </tr>\n",
              "    <tr>\n",
              "      <th>1</th>\n",
              "      <td>418.0</td>\n",
              "      <td>1976</td>\n",
              "      <td>462.0</td>\n",
              "      <td>380.0</td>\n",
              "    </tr>\n",
              "    <tr>\n",
              "      <th>2</th>\n",
              "      <td>402.0</td>\n",
              "      <td>1978</td>\n",
              "      <td>445.0</td>\n",
              "      <td>366.0</td>\n",
              "    </tr>\n",
              "    <tr>\n",
              "      <th>3</th>\n",
              "      <td>394.0</td>\n",
              "      <td>1980</td>\n",
              "      <td>424.0</td>\n",
              "      <td>368.0</td>\n",
              "    </tr>\n",
              "    <tr>\n",
              "      <th>4</th>\n",
              "      <td>353.0</td>\n",
              "      <td>1982</td>\n",
              "      <td>378.0</td>\n",
              "      <td>331.0</td>\n",
              "    </tr>\n",
              "    <tr>\n",
              "      <th>5</th>\n",
              "      <td>340.0</td>\n",
              "      <td>1984</td>\n",
              "      <td>363.0</td>\n",
              "      <td>321.0</td>\n",
              "    </tr>\n",
              "    <tr>\n",
              "      <th>6</th>\n",
              "      <td>327.0</td>\n",
              "      <td>1986</td>\n",
              "      <td>346.0</td>\n",
              "      <td>310.0</td>\n",
              "    </tr>\n",
              "    <tr>\n",
              "      <th>7</th>\n",
              "      <td>316.0</td>\n",
              "      <td>1988</td>\n",
              "      <td>329.0</td>\n",
              "      <td>304.0</td>\n",
              "    </tr>\n",
              "    <tr>\n",
              "      <th>8</th>\n",
              "      <td>300.0</td>\n",
              "      <td>1990</td>\n",
              "      <td>310.0</td>\n",
              "      <td>291.0</td>\n",
              "    </tr>\n",
              "    <tr>\n",
              "      <th>9</th>\n",
              "      <td>284.0</td>\n",
              "      <td>1992</td>\n",
              "      <td>294.0</td>\n",
              "      <td>276.0</td>\n",
              "    </tr>\n",
              "    <tr>\n",
              "      <th>10</th>\n",
              "      <td>268.0</td>\n",
              "      <td>1994</td>\n",
              "      <td>282.0</td>\n",
              "      <td>256.0</td>\n",
              "    </tr>\n",
              "    <tr>\n",
              "      <th>11</th>\n",
              "      <td>280.0</td>\n",
              "      <td>1996</td>\n",
              "      <td>286.0</td>\n",
              "      <td>275.0</td>\n",
              "    </tr>\n",
              "    <tr>\n",
              "      <th>12</th>\n",
              "      <td>271.0</td>\n",
              "      <td>1998</td>\n",
              "      <td>282.0</td>\n",
              "      <td>261.0</td>\n",
              "    </tr>\n",
              "    <tr>\n",
              "      <th>13</th>\n",
              "      <td>270.0</td>\n",
              "      <td>2000</td>\n",
              "      <td>285.0</td>\n",
              "      <td>255.0</td>\n",
              "    </tr>\n",
              "    <tr>\n",
              "      <th>14</th>\n",
              "      <td>269.0</td>\n",
              "      <td>2001</td>\n",
              "      <td>283.0</td>\n",
              "      <td>256.0</td>\n",
              "    </tr>\n",
              "    <tr>\n",
              "      <th>15</th>\n",
              "      <td>259.0</td>\n",
              "      <td>2002</td>\n",
              "      <td>268.0</td>\n",
              "      <td>250.0</td>\n",
              "    </tr>\n",
              "    <tr>\n",
              "      <th>16</th>\n",
              "      <td>260.0</td>\n",
              "      <td>2003</td>\n",
              "      <td>280.0</td>\n",
              "      <td>242.0</td>\n",
              "    </tr>\n",
              "    <tr>\n",
              "      <th>17</th>\n",
              "      <td>246.0</td>\n",
              "      <td>2004</td>\n",
              "      <td>264.0</td>\n",
              "      <td>230.0</td>\n",
              "    </tr>\n",
              "    <tr>\n",
              "      <th>18</th>\n",
              "      <td>239.0</td>\n",
              "      <td>2005</td>\n",
              "      <td>253.0</td>\n",
              "      <td>227.0</td>\n",
              "    </tr>\n",
              "    <tr>\n",
              "      <th>19</th>\n",
              "      <td>220.0</td>\n",
              "      <td>2006</td>\n",
              "      <td>232.0</td>\n",
              "      <td>209.0</td>\n",
              "    </tr>\n",
              "    <tr>\n",
              "      <th>20</th>\n",
              "      <td>209.0</td>\n",
              "      <td>2007</td>\n",
              "      <td>221.0</td>\n",
              "      <td>197.0</td>\n",
              "    </tr>\n",
              "    <tr>\n",
              "      <th>21</th>\n",
              "      <td>211.0</td>\n",
              "      <td>2008</td>\n",
              "      <td>216.0</td>\n",
              "      <td>206.0</td>\n",
              "    </tr>\n",
              "    <tr>\n",
              "      <th>22</th>\n",
              "      <td>210.0</td>\n",
              "      <td>2009</td>\n",
              "      <td>220.0</td>\n",
              "      <td>202.0</td>\n",
              "    </tr>\n",
              "    <tr>\n",
              "      <th>23</th>\n",
              "      <td>203.0</td>\n",
              "      <td>2010</td>\n",
              "      <td>209.0</td>\n",
              "      <td>198.0</td>\n",
              "    </tr>\n",
              "    <tr>\n",
              "      <th>24</th>\n",
              "      <td>198.0</td>\n",
              "      <td>2011</td>\n",
              "      <td>210.0</td>\n",
              "      <td>188.0</td>\n",
              "    </tr>\n",
              "    <tr>\n",
              "      <th>25</th>\n",
              "      <td>204.0</td>\n",
              "      <td>2012</td>\n",
              "      <td>222.0</td>\n",
              "      <td>188.0</td>\n",
              "    </tr>\n",
              "    <tr>\n",
              "      <th>26</th>\n",
              "      <td>192.0</td>\n",
              "      <td>2013</td>\n",
              "      <td>216.0</td>\n",
              "      <td>168.0</td>\n",
              "    </tr>\n",
              "    <tr>\n",
              "      <th>27</th>\n",
              "      <td>188.0</td>\n",
              "      <td>2014</td>\n",
              "      <td>204.0</td>\n",
              "      <td>172.0</td>\n",
              "    </tr>\n",
              "    <tr>\n",
              "      <th>28</th>\n",
              "      <td>178.0</td>\n",
              "      <td>2015</td>\n",
              "      <td>191.0</td>\n",
              "      <td>166.0</td>\n",
              "    </tr>\n",
              "    <tr>\n",
              "      <th>29</th>\n",
              "      <td>161.0</td>\n",
              "      <td>2016</td>\n",
              "      <td>177.0</td>\n",
              "      <td>145.0</td>\n",
              "    </tr>\n",
              "    <tr>\n",
              "      <th>30</th>\n",
              "      <td>168.0</td>\n",
              "      <td>2017</td>\n",
              "      <td>187.0</td>\n",
              "      <td>150.0</td>\n",
              "    </tr>\n",
              "    <tr>\n",
              "      <th>31</th>\n",
              "      <td>166.0</td>\n",
              "      <td>2018</td>\n",
              "      <td>170.0</td>\n",
              "      <td>162.0</td>\n",
              "    </tr>\n",
              "    <tr>\n",
              "      <th>32</th>\n",
              "      <td>158.0</td>\n",
              "      <td>2019</td>\n",
              "      <td>179.0</td>\n",
              "      <td>138.0</td>\n",
              "    </tr>\n",
              "    <tr>\n",
              "      <th>33</th>\n",
              "      <td>145.0</td>\n",
              "      <td>2020</td>\n",
              "      <td>153.0</td>\n",
              "      <td>137.0</td>\n",
              "    </tr>\n",
              "  </tbody>\n",
              "</table>\n",
              "</div>\n",
              "      <button class=\"colab-df-convert\" onclick=\"convertToInteractive('df-05ef9a88-eb84-40bd-91af-d4b85b8eb6aa')\"\n",
              "              title=\"Convert this dataframe to an interactive table.\"\n",
              "              style=\"display:none;\">\n",
              "        \n",
              "  <svg xmlns=\"http://www.w3.org/2000/svg\" height=\"24px\"viewBox=\"0 0 24 24\"\n",
              "       width=\"24px\">\n",
              "    <path d=\"M0 0h24v24H0V0z\" fill=\"none\"/>\n",
              "    <path d=\"M18.56 5.44l.94 2.06.94-2.06 2.06-.94-2.06-.94-.94-2.06-.94 2.06-2.06.94zm-11 1L8.5 8.5l.94-2.06 2.06-.94-2.06-.94L8.5 2.5l-.94 2.06-2.06.94zm10 10l.94 2.06.94-2.06 2.06-.94-2.06-.94-.94-2.06-.94 2.06-2.06.94z\"/><path d=\"M17.41 7.96l-1.37-1.37c-.4-.4-.92-.59-1.43-.59-.52 0-1.04.2-1.43.59L10.3 9.45l-7.72 7.72c-.78.78-.78 2.05 0 2.83L4 21.41c.39.39.9.59 1.41.59.51 0 1.02-.2 1.41-.59l7.78-7.78 2.81-2.81c.8-.78.8-2.07 0-2.86zM5.41 20L4 18.59l7.72-7.72 1.47 1.35L5.41 20z\"/>\n",
              "  </svg>\n",
              "      </button>\n",
              "      \n",
              "  <style>\n",
              "    .colab-df-container {\n",
              "      display:flex;\n",
              "      flex-wrap:wrap;\n",
              "      gap: 12px;\n",
              "    }\n",
              "\n",
              "    .colab-df-convert {\n",
              "      background-color: #E8F0FE;\n",
              "      border: none;\n",
              "      border-radius: 50%;\n",
              "      cursor: pointer;\n",
              "      display: none;\n",
              "      fill: #1967D2;\n",
              "      height: 32px;\n",
              "      padding: 0 0 0 0;\n",
              "      width: 32px;\n",
              "    }\n",
              "\n",
              "    .colab-df-convert:hover {\n",
              "      background-color: #E2EBFA;\n",
              "      box-shadow: 0px 1px 2px rgba(60, 64, 67, 0.3), 0px 1px 3px 1px rgba(60, 64, 67, 0.15);\n",
              "      fill: #174EA6;\n",
              "    }\n",
              "\n",
              "    [theme=dark] .colab-df-convert {\n",
              "      background-color: #3B4455;\n",
              "      fill: #D2E3FC;\n",
              "    }\n",
              "\n",
              "    [theme=dark] .colab-df-convert:hover {\n",
              "      background-color: #434B5C;\n",
              "      box-shadow: 0px 1px 3px 1px rgba(0, 0, 0, 0.15);\n",
              "      filter: drop-shadow(0px 1px 2px rgba(0, 0, 0, 0.3));\n",
              "      fill: #FFFFFF;\n",
              "    }\n",
              "  </style>\n",
              "\n",
              "      <script>\n",
              "        const buttonEl =\n",
              "          document.querySelector('#df-05ef9a88-eb84-40bd-91af-d4b85b8eb6aa button.colab-df-convert');\n",
              "        buttonEl.style.display =\n",
              "          google.colab.kernel.accessAllowed ? 'block' : 'none';\n",
              "\n",
              "        async function convertToInteractive(key) {\n",
              "          const element = document.querySelector('#df-05ef9a88-eb84-40bd-91af-d4b85b8eb6aa');\n",
              "          const dataTable =\n",
              "            await google.colab.kernel.invokeFunction('convertToInteractive',\n",
              "                                                     [key], {});\n",
              "          if (!dataTable) return;\n",
              "\n",
              "          const docLinkHtml = 'Like what you see? Visit the ' +\n",
              "            '<a target=\"_blank\" href=https://colab.research.google.com/notebooks/data_table.ipynb>data table notebook</a>'\n",
              "            + ' to learn more about interactive tables.';\n",
              "          element.innerHTML = '';\n",
              "          dataTable['output_type'] = 'display_data';\n",
              "          await google.colab.output.renderOutput(dataTable, element);\n",
              "          const docLink = document.createElement('div');\n",
              "          docLink.innerHTML = docLinkHtml;\n",
              "          element.appendChild(docLink);\n",
              "        }\n",
              "      </script>\n",
              "    </div>\n",
              "  </div>\n",
              "  "
            ]
          },
          "metadata": {},
          "execution_count": 119
        }
      ]
    },
    {
      "cell_type": "code",
      "source": [
        "########################### --------------Linear Regression for Time against Smoking -------------------##################################################################"
      ],
      "metadata": {
        "id": "ju8awLz6Y5Fj"
      },
      "execution_count": null,
      "outputs": []
    },
    {
      "cell_type": "code",
      "source": [
        "x_time = data[['Time']].values"
      ],
      "metadata": {
        "id": "r1Ced4VDYNSV"
      },
      "execution_count": null,
      "outputs": []
    },
    {
      "cell_type": "code",
      "source": [
        "y = data[['Smoking ']].values"
      ],
      "metadata": {
        "id": "FHBvv71LYNqf"
      },
      "execution_count": null,
      "outputs": []
    },
    {
      "cell_type": "code",
      "source": [
        "model = sm.OLS(y, x_time)"
      ],
      "metadata": {
        "id": "1C_uYE8VYTak"
      },
      "execution_count": null,
      "outputs": []
    },
    {
      "cell_type": "code",
      "source": [
        "results = model.fit()\n"
      ],
      "metadata": {
        "id": "ILO25LAQYTfA"
      },
      "execution_count": null,
      "outputs": []
    },
    {
      "cell_type": "code",
      "source": [
        "lr = LinearRegression()\n",
        "lr.fit(y,x_time)\n",
        "x_time_pred = lr.predict(y)\n"
      ],
      "metadata": {
        "id": "8CNAazRmdCsF"
      },
      "execution_count": null,
      "outputs": []
    },
    {
      "cell_type": "code",
      "source": [
        "plt.scatter(y,x_time)\n",
        "plt.plot(y,x_time_pred, color='red')\n",
        "plt.title('SMOKING vs TIME')\n",
        "plt.xlabel('Time')\n",
        "plt.ylabel('Smoking')\n",
        "plt.show()"
      ],
      "metadata": {
        "colab": {
          "base_uri": "https://localhost:8080/",
          "height": 295
        },
        "id": "l38NU-yacLbc",
        "outputId": "f47ef2c9-f9ea-49b1-8087-93063fc093a5"
      },
      "execution_count": null,
      "outputs": [
        {
          "output_type": "display_data",
          "data": {
            "text/plain": [
              "<Figure size 432x288 with 1 Axes>"
            ],
            "image/png": "[encoded data removed]"
          },
          "metadata": {
            "needs_background": "light"
          }
        }
      ]
    },
    {
      "cell_type": "code",
      "source": [
        "print(results.summary())"
      ],
      "metadata": {
        "colab": {
          "base_uri": "https://localhost:8080/"
        },
        "id": "BgQuYqt8YTiu",
        "outputId": "99272dc0-db57-4e54-be89-ec9c18afb04e"
      },
      "execution_count": null,
      "outputs": [
        {
          "output_type": "stream",
          "name": "stdout",
          "text": [
            "                                 OLS Regression Results                                \n",
            "=======================================================================================\n",
            "Dep. Variable:                      y   R-squared (uncentered):                   0.902\n",
            "Model:                            OLS   Adj. R-squared (uncentered):              0.900\n",
            "Method:                 Least Squares   F-statistic:                              305.4\n",
            "Date:                Sun, 20 Mar 2022   Prob (F-statistic):                    3.02e-18\n",
            "Time:                        17:31:01   Log-Likelihood:                         -197.50\n",
            "No. Observations:                  34   AIC:                                      397.0\n",
            "Df Residuals:                      33   BIC:                                      398.5\n",
            "Df Model:                           1                                                  \n",
            "Covariance Type:            nonrobust                                                  \n",
            "==============================================================================\n",
            "                 coef    std err          t      P>|t|      [0.025      0.975]\n",
            "------------------------------------------------------------------------------\n",
            "x1             0.1226      0.007     17.476      0.000       0.108       0.137\n",
            "==============================================================================\n",
            "Omnibus:                        0.623   Durbin-Watson:                   0.651\n",
            "Prob(Omnibus):                  0.732   Jarque-Bera (JB):                0.294\n",
            "Skew:                           0.228   Prob(JB):                        0.863\n",
            "Kurtosis:                       2.998   Cond. No.                         1.00\n",
            "==============================================================================\n",
            "\n",
            "Warnings:\n",
            "[1] Standard Errors assume that the covariance matrix of the errors is correctly specified.\n"
          ]
        }
      ]
    },
    {
      "cell_type": "code",
      "source": [
        "########################### --------------Linear Regression for Female against Smoking -------------------##################################################################"
      ],
      "metadata": {
        "id": "0iKEAVeeYTmc"
      },
      "execution_count": null,
      "outputs": []
    },
    {
      "cell_type": "code",
      "source": [
        "x_female = data[['Female']].values"
      ],
      "metadata": {
        "id": "dQXsXgBRYTpt"
      },
      "execution_count": null,
      "outputs": []
    },
    {
      "cell_type": "code",
      "source": [
        "model = sm.OLS(y, x_female)"
      ],
      "metadata": {
        "id": "mce1XtB7YTs8"
      },
      "execution_count": null,
      "outputs": []
    },
    {
      "cell_type": "code",
      "source": [
        "results = model.fit()"
      ],
      "metadata": {
        "id": "6vs-4v0lYrKF"
      },
      "execution_count": null,
      "outputs": []
    },
    {
      "cell_type": "code",
      "source": [
        "print(results.summary())"
      ],
      "metadata": {
        "colab": {
          "base_uri": "https://localhost:8080/"
        },
        "id": "vamlCT4MYrPG",
        "outputId": "3f152bf3-8402-42d8-a069-a950b19ca013"
      },
      "execution_count": null,
      "outputs": [
        {
          "output_type": "stream",
          "name": "stdout",
          "text": [
            "                                 OLS Regression Results                                \n",
            "=======================================================================================\n",
            "Dep. Variable:                      y   R-squared (uncentered):                   0.999\n",
            "Model:                            OLS   Adj. R-squared (uncentered):              0.999\n",
            "Method:                 Least Squares   F-statistic:                          4.812e+04\n",
            "Date:                Sun, 20 Mar 2022   Prob (F-statistic):                    8.55e-54\n",
            "Time:                        17:32:25   Log-Likelihood:                         -113.22\n",
            "No. Observations:                  34   AIC:                                      228.4\n",
            "Df Residuals:                      33   BIC:                                      230.0\n",
            "Df Model:                           1                                                  \n",
            "Covariance Type:            nonrobust                                                  \n",
            "==============================================================================\n",
            "                 coef    std err          t      P>|t|      [0.025      0.975]\n",
            "------------------------------------------------------------------------------\n",
            "x1             1.0613      0.005    219.358      0.000       1.051       1.071\n",
            "==============================================================================\n",
            "Omnibus:                        1.964   Durbin-Watson:                   1.017\n",
            "Prob(Omnibus):                  0.375   Jarque-Bera (JB):                1.776\n",
            "Skew:                           0.526   Prob(JB):                        0.412\n",
            "Kurtosis:                       2.615   Cond. No.                         1.00\n",
            "==============================================================================\n",
            "\n",
            "Warnings:\n",
            "[1] Standard Errors assume that the covariance matrix of the errors is correctly specified.\n"
          ]
        }
      ]
    },
    {
      "cell_type": "code",
      "source": [
        "lr = LinearRegression()\n",
        "lr.fit(y,x_female)\n",
        "x_female_pred = lr.predict(y)"
      ],
      "metadata": {
        "id": "dpv0_p23eHTN"
      },
      "execution_count": null,
      "outputs": []
    },
    {
      "cell_type": "code",
      "source": [
        "plt.scatter(y,x_female)\n",
        "plt.plot(y,x_female_pred, color='red')\n",
        "plt.title('SMOKING vs Female')\n",
        "plt.xlabel('Female')\n",
        "plt.ylabel('Smoking')\n",
        "plt.show()"
      ],
      "metadata": {
        "colab": {
          "base_uri": "https://localhost:8080/",
          "height": 295
        },
        "id": "FFKQtxs0eOYf",
        "outputId": "21e1d554-faaa-4e06-950e-884053ed4788"
      },
      "execution_count": null,
      "outputs": [
        {
          "output_type": "display_data",
          "data": {
            "text/plain": [
              "<Figure size 432x288 with 1 Axes>"
            ],
            "image/png": "[encoded data removed]"
          },
          "metadata": {
            "needs_background": "light"
          }
        }
      ]
    },
    {
      "cell_type": "code",
      "source": [
        ""
      ],
      "metadata": {
        "id": "3T_RuttqeOgd"
      },
      "execution_count": null,
      "outputs": []
    },
    {
      "cell_type": "code",
      "source": [
        "########################### --------------Linear Regression for Male against Smoking -------------------##################################################################"
      ],
      "metadata": {
        "id": "LGnl3dVIYrXd"
      },
      "execution_count": null,
      "outputs": []
    },
    {
      "cell_type": "code",
      "source": [
        "x_male = data[['Male']].values"
      ],
      "metadata": {
        "id": "m-rigCJjY0A1"
      },
      "execution_count": null,
      "outputs": []
    },
    {
      "cell_type": "code",
      "source": [
        "model = sm.OLS(y, x_male)"
      ],
      "metadata": {
        "id": "-GroO18kY0FW"
      },
      "execution_count": null,
      "outputs": []
    },
    {
      "cell_type": "code",
      "source": [
        "results = model.fit()"
      ],
      "metadata": {
        "id": "iKUQTRHyY0Mg"
      },
      "execution_count": null,
      "outputs": []
    },
    {
      "cell_type": "code",
      "source": [
        "print(results.summary())"
      ],
      "metadata": {
        "colab": {
          "base_uri": "https://localhost:8080/"
        },
        "id": "BepwomjUY0U2",
        "outputId": "578f8575-618a-4153-b5c1-9bfd59a6dffe"
      },
      "execution_count": null,
      "outputs": [
        {
          "output_type": "stream",
          "name": "stdout",
          "text": [
            "                                 OLS Regression Results                                \n",
            "=======================================================================================\n",
            "Dep. Variable:                      y   R-squared (uncentered):                   0.999\n",
            "Model:                            OLS   Adj. R-squared (uncentered):              0.999\n",
            "Method:                 Least Squares   F-statistic:                          4.984e+04\n",
            "Date:                Sun, 20 Mar 2022   Prob (F-statistic):                    4.79e-54\n",
            "Time:                        17:35:12   Log-Likelihood:                         -112.62\n",
            "No. Observations:                  34   AIC:                                      227.2\n",
            "Df Residuals:                      33   BIC:                                      228.8\n",
            "Df Model:                           1                                                  \n",
            "Covariance Type:            nonrobust                                                  \n",
            "==============================================================================\n",
            "                 coef    std err          t      P>|t|      [0.025      0.975]\n",
            "------------------------------------------------------------------------------\n",
            "x1             0.9379      0.004    223.251      0.000       0.929       0.946\n",
            "==============================================================================\n",
            "Omnibus:                        2.861   Durbin-Watson:                   0.976\n",
            "Prob(Omnibus):                  0.239   Jarque-Bera (JB):                2.224\n",
            "Skew:                          -0.626   Prob(JB):                        0.329\n",
            "Kurtosis:                       2.953   Cond. No.                         1.00\n",
            "==============================================================================\n",
            "\n",
            "Warnings:\n",
            "[1] Standard Errors assume that the covariance matrix of the errors is correctly specified.\n"
          ]
        }
      ]
    },
    {
      "cell_type": "code",
      "source": [
        "lr = LinearRegression()\n",
        "lr.fit(y,x_male)\n",
        "x_male_pred = lr.predict(y)"
      ],
      "metadata": {
        "id": "MvNl8d85ebAy"
      },
      "execution_count": null,
      "outputs": []
    },
    {
      "cell_type": "code",
      "source": [
        "plt.scatter(y,x_male)\n",
        "plt.plot(y,x_male_pred, color='red')\n",
        "plt.title('SMOKING vs Male')\n",
        "plt.xlabel('Male')\n",
        "plt.ylabel('Smoking')\n",
        "plt.show()"
      ],
      "metadata": {
        "colab": {
          "base_uri": "https://localhost:8080/",
          "height": 295
        },
        "id": "5iW4MuV5efsQ",
        "outputId": "63177ff5-e6bc-466f-fd02-432fc46b0a9e"
      },
      "execution_count": null,
      "outputs": [
        {
          "output_type": "display_data",
          "data": {
            "text/plain": [
              "<Figure size 432x288 with 1 Axes>"
            ],
            "image/png": "[encoded data removed]"
          },
          "metadata": {
            "needs_background": "light"
          }
        }
      ]
    },
    {
      "cell_type": "code",
      "source": [
        "########################### --------------Multiple Linear Regression of Female, Male and Time against Smoking -------------------##################################################################"
      ],
      "metadata": {
        "id": "pkwpVAi2Zch8"
      },
      "execution_count": null,
      "outputs": []
    },
    {
      "cell_type": "code",
      "source": [
        "x = data[['Female', 'Male', 'Time']].values"
      ],
      "metadata": {
        "id": "MWfN1DoEPO38"
      },
      "execution_count": null,
      "outputs": []
    },
    {
      "cell_type": "code",
      "source": [
        "model = sm.OLS(y, x)"
      ],
      "metadata": {
        "id": "Uen4YJHkXZHA"
      },
      "execution_count": null,
      "outputs": []
    },
    {
      "cell_type": "code",
      "source": [
        "results = model.fit()\n"
      ],
      "metadata": {
        "id": "d5JTqM2XXZPT"
      },
      "execution_count": null,
      "outputs": []
    },
    {
      "cell_type": "code",
      "source": [
        "print(results.summary())"
      ],
      "metadata": {
        "colab": {
          "base_uri": "https://localhost:8080/"
        },
        "id": "Y-CS_XM_XZW7",
        "outputId": "c9001c9b-a817-43fc-ca6b-5f82774b14bf"
      },
      "execution_count": null,
      "outputs": [
        {
          "output_type": "stream",
          "name": "stdout",
          "text": [
            "                                 OLS Regression Results                                \n",
            "=======================================================================================\n",
            "Dep. Variable:                      y   R-squared (uncentered):                   1.000\n",
            "Model:                            OLS   Adj. R-squared (uncentered):              1.000\n",
            "Method:                 Least Squares   F-statistic:                          3.492e+06\n",
            "Date:                Sun, 20 Mar 2022   Prob (F-statistic):                    9.12e-86\n",
            "Time:                        17:27:55   Log-Likelihood:                         -20.650\n",
            "No. Observations:                  34   AIC:                                      47.30\n",
            "Df Residuals:                      31   BIC:                                      51.88\n",
            "Df Model:                           3                                                  \n",
            "Covariance Type:            nonrobust                                                  \n",
            "==============================================================================\n",
            "                 coef    std err          t      P>|t|      [0.025      0.975]\n",
            "------------------------------------------------------------------------------\n",
            "x1             0.5230      0.006     81.761      0.000       0.510       0.536\n",
            "x2             0.4729      0.006     84.345      0.000       0.461       0.484\n",
            "x3             0.0005      0.000      3.866      0.001       0.000       0.001\n",
            "==============================================================================\n",
            "Omnibus:                        0.068   Durbin-Watson:                   1.342\n",
            "Prob(Omnibus):                  0.967   Jarque-Bera (JB):                0.036\n",
            "Skew:                          -0.017   Prob(JB):                        0.982\n",
            "Kurtosis:                       2.845   Cond. No.                         216.\n",
            "==============================================================================\n",
            "\n",
            "Warnings:\n",
            "[1] Standard Errors assume that the covariance matrix of the errors is correctly specified.\n"
          ]
        }
      ]
    },
    {
      "cell_type": "code",
      "source": [
        ""
      ],
      "metadata": {
        "id": "W2Pj5JDXXZaU"
      },
      "execution_count": null,
      "outputs": []
    },
    {
      "cell_type": "code",
      "source": [
        ""
      ],
      "metadata": {
        "id": "FNNHOAK1XZeB"
      },
      "execution_count": null,
      "outputs": []
    }
  ]
}